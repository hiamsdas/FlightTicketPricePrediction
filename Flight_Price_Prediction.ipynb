{
  "nbformat": 4,
  "nbformat_minor": 0,
  "metadata": {
    "colab": {
      "name": "Flight_Price_Prediction",
      "provenance": [],
      "collapsed_sections": []
    },
    "kernelspec": {
      "name": "python3",
      "display_name": "Python 3"
    }
  },
  "cells": [
    {
      "cell_type": "markdown",
      "metadata": {
        "id": "9s-VBrwlO3qf",
        "colab_type": "text"
      },
      "source": [
        "# Import Basic Libraries\n"
      ]
    },
    {
      "cell_type": "code",
      "metadata": {
        "id": "N6hjYOP6dRD7",
        "colab_type": "code",
        "colab": {}
      },
      "source": [
        "import pandas as pd \n",
        "import numpy as np\n",
        "import matplotlib.pyplot as plt\n",
        "import seaborn as sns\n",
        "from scipy import stats\n",
        "from sklearn.model_selection import KFold\n",
        "from sklearn.model_selection import cross_val_score\n",
        "from sklearn.ensemble import GradientBoostingRegressor\n",
        "from sklearn.model_selection import GridSearchCV\n",
        "from lightgbm import LGBMRegressor\n",
        "from xgboost import XGBRegressor  \n",
        "from sklearn.svm import SVR\n",
        "from sklearn.metrics import mean_squared_error\n",
        "import datetime\n",
        "from mlxtend.regressor import StackingCVRegressor\n",
        "from sklearn.ensemble import RandomForestRegressor\n",
        "import warnings\n",
        "warnings.filterwarnings('ignore')\n",
        "from sklearn.linear_model import LinearRegression"
      ],
      "execution_count": 0,
      "outputs": []
    },
    {
      "cell_type": "code",
      "metadata": {
        "id": "YpVN4FVFdt5A",
        "colab_type": "code",
        "colab": {}
      },
      "source": [
        "train=pd.read_excel(\"Data_Train.xlsx\")\n",
        "test=pd.read_excel(\"Test_set.xlsx\")\n",
        "sample=pd.read_excel(\"Sample_submission.xlsx\")"
      ],
      "execution_count": 0,
      "outputs": []
    },
    {
      "cell_type": "code",
      "metadata": {
        "id": "xcEWIfucd4ql",
        "colab_type": "code",
        "outputId": "e8733197-4e2f-4f13-e264-b99e54966d0d",
        "colab": {
          "base_uri": "https://localhost:8080/",
          "height": 202
        }
      },
      "source": [
        "train.head()"
      ],
      "execution_count": 4,
      "outputs": [
        {
          "output_type": "execute_result",
          "data": {
            "text/html": [
              "<div>\n",
              "<style scoped>\n",
              "    .dataframe tbody tr th:only-of-type {\n",
              "        vertical-align: middle;\n",
              "    }\n",
              "\n",
              "    .dataframe tbody tr th {\n",
              "        vertical-align: top;\n",
              "    }\n",
              "\n",
              "    .dataframe thead th {\n",
              "        text-align: right;\n",
              "    }\n",
              "</style>\n",
              "<table border=\"1\" class=\"dataframe\">\n",
              "  <thead>\n",
              "    <tr style=\"text-align: right;\">\n",
              "      <th></th>\n",
              "      <th>Airline</th>\n",
              "      <th>Date_of_Journey</th>\n",
              "      <th>Source</th>\n",
              "      <th>Destination</th>\n",
              "      <th>Route</th>\n",
              "      <th>Dep_Time</th>\n",
              "      <th>Arrival_Time</th>\n",
              "      <th>Duration</th>\n",
              "      <th>Total_Stops</th>\n",
              "      <th>Additional_Info</th>\n",
              "      <th>Price</th>\n",
              "    </tr>\n",
              "  </thead>\n",
              "  <tbody>\n",
              "    <tr>\n",
              "      <th>0</th>\n",
              "      <td>IndiGo</td>\n",
              "      <td>24/03/2019</td>\n",
              "      <td>Banglore</td>\n",
              "      <td>New Delhi</td>\n",
              "      <td>BLR → DEL</td>\n",
              "      <td>22:20</td>\n",
              "      <td>01:10 22 Mar</td>\n",
              "      <td>2h 50m</td>\n",
              "      <td>non-stop</td>\n",
              "      <td>No info</td>\n",
              "      <td>3897</td>\n",
              "    </tr>\n",
              "    <tr>\n",
              "      <th>1</th>\n",
              "      <td>Air India</td>\n",
              "      <td>1/05/2019</td>\n",
              "      <td>Kolkata</td>\n",
              "      <td>Banglore</td>\n",
              "      <td>CCU → IXR → BBI → BLR</td>\n",
              "      <td>05:50</td>\n",
              "      <td>13:15</td>\n",
              "      <td>7h 25m</td>\n",
              "      <td>2 stops</td>\n",
              "      <td>No info</td>\n",
              "      <td>7662</td>\n",
              "    </tr>\n",
              "    <tr>\n",
              "      <th>2</th>\n",
              "      <td>Jet Airways</td>\n",
              "      <td>9/06/2019</td>\n",
              "      <td>Delhi</td>\n",
              "      <td>Cochin</td>\n",
              "      <td>DEL → LKO → BOM → COK</td>\n",
              "      <td>09:25</td>\n",
              "      <td>04:25 10 Jun</td>\n",
              "      <td>19h</td>\n",
              "      <td>2 stops</td>\n",
              "      <td>No info</td>\n",
              "      <td>13882</td>\n",
              "    </tr>\n",
              "    <tr>\n",
              "      <th>3</th>\n",
              "      <td>IndiGo</td>\n",
              "      <td>12/05/2019</td>\n",
              "      <td>Kolkata</td>\n",
              "      <td>Banglore</td>\n",
              "      <td>CCU → NAG → BLR</td>\n",
              "      <td>18:05</td>\n",
              "      <td>23:30</td>\n",
              "      <td>5h 25m</td>\n",
              "      <td>1 stop</td>\n",
              "      <td>No info</td>\n",
              "      <td>6218</td>\n",
              "    </tr>\n",
              "    <tr>\n",
              "      <th>4</th>\n",
              "      <td>IndiGo</td>\n",
              "      <td>01/03/2019</td>\n",
              "      <td>Banglore</td>\n",
              "      <td>New Delhi</td>\n",
              "      <td>BLR → NAG → DEL</td>\n",
              "      <td>16:50</td>\n",
              "      <td>21:35</td>\n",
              "      <td>4h 45m</td>\n",
              "      <td>1 stop</td>\n",
              "      <td>No info</td>\n",
              "      <td>13302</td>\n",
              "    </tr>\n",
              "  </tbody>\n",
              "</table>\n",
              "</div>"
            ],
            "text/plain": [
              "       Airline Date_of_Journey    Source  ... Total_Stops Additional_Info  Price\n",
              "0       IndiGo      24/03/2019  Banglore  ...    non-stop         No info   3897\n",
              "1    Air India       1/05/2019   Kolkata  ...     2 stops         No info   7662\n",
              "2  Jet Airways       9/06/2019     Delhi  ...     2 stops         No info  13882\n",
              "3       IndiGo      12/05/2019   Kolkata  ...      1 stop         No info   6218\n",
              "4       IndiGo      01/03/2019  Banglore  ...      1 stop         No info  13302\n",
              "\n",
              "[5 rows x 11 columns]"
            ]
          },
          "metadata": {
            "tags": []
          },
          "execution_count": 4
        }
      ]
    },
    {
      "cell_type": "code",
      "metadata": {
        "id": "vP9kZLNEd-Ib",
        "colab_type": "code",
        "colab": {}
      },
      "source": [
        "len_train=train.shape[0]"
      ],
      "execution_count": 0,
      "outputs": []
    },
    {
      "cell_type": "code",
      "metadata": {
        "id": "naXMN3PmeD2x",
        "colab_type": "code",
        "outputId": "144e139d-4b28-4b6a-f2f0-8098fbcc3135",
        "colab": {
          "base_uri": "https://localhost:8080/",
          "height": 294
        }
      },
      "source": [
        "train.info()"
      ],
      "execution_count": 6,
      "outputs": [
        {
          "output_type": "stream",
          "text": [
            "<class 'pandas.core.frame.DataFrame'>\n",
            "RangeIndex: 10683 entries, 0 to 10682\n",
            "Data columns (total 11 columns):\n",
            "Airline            10683 non-null object\n",
            "Date_of_Journey    10683 non-null object\n",
            "Source             10683 non-null object\n",
            "Destination        10683 non-null object\n",
            "Route              10682 non-null object\n",
            "Dep_Time           10683 non-null object\n",
            "Arrival_Time       10683 non-null object\n",
            "Duration           10683 non-null object\n",
            "Total_Stops        10682 non-null object\n",
            "Additional_Info    10683 non-null object\n",
            "Price              10683 non-null int64\n",
            "dtypes: int64(1), object(10)\n",
            "memory usage: 918.2+ KB\n"
          ],
          "name": "stdout"
        }
      ]
    },
    {
      "cell_type": "code",
      "metadata": {
        "id": "l5SD3ZuEeHmu",
        "colab_type": "code",
        "outputId": "b1db85fa-ef1c-4b9e-98d4-94a68ff3bba5",
        "colab": {
          "base_uri": "https://localhost:8080/",
          "height": 312
        }
      },
      "source": [
        "print(train.shape)\n",
        "train.describe()"
      ],
      "execution_count": 7,
      "outputs": [
        {
          "output_type": "stream",
          "text": [
            "(10683, 11)\n"
          ],
          "name": "stdout"
        },
        {
          "output_type": "execute_result",
          "data": {
            "text/html": [
              "<div>\n",
              "<style scoped>\n",
              "    .dataframe tbody tr th:only-of-type {\n",
              "        vertical-align: middle;\n",
              "    }\n",
              "\n",
              "    .dataframe tbody tr th {\n",
              "        vertical-align: top;\n",
              "    }\n",
              "\n",
              "    .dataframe thead th {\n",
              "        text-align: right;\n",
              "    }\n",
              "</style>\n",
              "<table border=\"1\" class=\"dataframe\">\n",
              "  <thead>\n",
              "    <tr style=\"text-align: right;\">\n",
              "      <th></th>\n",
              "      <th>Price</th>\n",
              "    </tr>\n",
              "  </thead>\n",
              "  <tbody>\n",
              "    <tr>\n",
              "      <th>count</th>\n",
              "      <td>10683.000000</td>\n",
              "    </tr>\n",
              "    <tr>\n",
              "      <th>mean</th>\n",
              "      <td>9087.064121</td>\n",
              "    </tr>\n",
              "    <tr>\n",
              "      <th>std</th>\n",
              "      <td>4611.359167</td>\n",
              "    </tr>\n",
              "    <tr>\n",
              "      <th>min</th>\n",
              "      <td>1759.000000</td>\n",
              "    </tr>\n",
              "    <tr>\n",
              "      <th>25%</th>\n",
              "      <td>5277.000000</td>\n",
              "    </tr>\n",
              "    <tr>\n",
              "      <th>50%</th>\n",
              "      <td>8372.000000</td>\n",
              "    </tr>\n",
              "    <tr>\n",
              "      <th>75%</th>\n",
              "      <td>12373.000000</td>\n",
              "    </tr>\n",
              "    <tr>\n",
              "      <th>max</th>\n",
              "      <td>79512.000000</td>\n",
              "    </tr>\n",
              "  </tbody>\n",
              "</table>\n",
              "</div>"
            ],
            "text/plain": [
              "              Price\n",
              "count  10683.000000\n",
              "mean    9087.064121\n",
              "std     4611.359167\n",
              "min     1759.000000\n",
              "25%     5277.000000\n",
              "50%     8372.000000\n",
              "75%    12373.000000\n",
              "max    79512.000000"
            ]
          },
          "metadata": {
            "tags": []
          },
          "execution_count": 7
        }
      ]
    },
    {
      "cell_type": "code",
      "metadata": {
        "id": "EJ_l4dGPeNMf",
        "colab_type": "code",
        "outputId": "798de4b6-affe-43da-8f40-945848331666",
        "colab": {
          "base_uri": "https://localhost:8080/",
          "height": 220
        }
      },
      "source": [
        "print(test.shape)\n",
        "test.head()"
      ],
      "execution_count": 8,
      "outputs": [
        {
          "output_type": "stream",
          "text": [
            "(2671, 10)\n"
          ],
          "name": "stdout"
        },
        {
          "output_type": "execute_result",
          "data": {
            "text/html": [
              "<div>\n",
              "<style scoped>\n",
              "    .dataframe tbody tr th:only-of-type {\n",
              "        vertical-align: middle;\n",
              "    }\n",
              "\n",
              "    .dataframe tbody tr th {\n",
              "        vertical-align: top;\n",
              "    }\n",
              "\n",
              "    .dataframe thead th {\n",
              "        text-align: right;\n",
              "    }\n",
              "</style>\n",
              "<table border=\"1\" class=\"dataframe\">\n",
              "  <thead>\n",
              "    <tr style=\"text-align: right;\">\n",
              "      <th></th>\n",
              "      <th>Airline</th>\n",
              "      <th>Date_of_Journey</th>\n",
              "      <th>Source</th>\n",
              "      <th>Destination</th>\n",
              "      <th>Route</th>\n",
              "      <th>Dep_Time</th>\n",
              "      <th>Arrival_Time</th>\n",
              "      <th>Duration</th>\n",
              "      <th>Total_Stops</th>\n",
              "      <th>Additional_Info</th>\n",
              "    </tr>\n",
              "  </thead>\n",
              "  <tbody>\n",
              "    <tr>\n",
              "      <th>0</th>\n",
              "      <td>Jet Airways</td>\n",
              "      <td>6/06/2019</td>\n",
              "      <td>Delhi</td>\n",
              "      <td>Cochin</td>\n",
              "      <td>DEL → BOM → COK</td>\n",
              "      <td>17:30</td>\n",
              "      <td>04:25 07 Jun</td>\n",
              "      <td>10h 55m</td>\n",
              "      <td>1 stop</td>\n",
              "      <td>No info</td>\n",
              "    </tr>\n",
              "    <tr>\n",
              "      <th>1</th>\n",
              "      <td>IndiGo</td>\n",
              "      <td>12/05/2019</td>\n",
              "      <td>Kolkata</td>\n",
              "      <td>Banglore</td>\n",
              "      <td>CCU → MAA → BLR</td>\n",
              "      <td>06:20</td>\n",
              "      <td>10:20</td>\n",
              "      <td>4h</td>\n",
              "      <td>1 stop</td>\n",
              "      <td>No info</td>\n",
              "    </tr>\n",
              "    <tr>\n",
              "      <th>2</th>\n",
              "      <td>Jet Airways</td>\n",
              "      <td>21/05/2019</td>\n",
              "      <td>Delhi</td>\n",
              "      <td>Cochin</td>\n",
              "      <td>DEL → BOM → COK</td>\n",
              "      <td>19:15</td>\n",
              "      <td>19:00 22 May</td>\n",
              "      <td>23h 45m</td>\n",
              "      <td>1 stop</td>\n",
              "      <td>In-flight meal not included</td>\n",
              "    </tr>\n",
              "    <tr>\n",
              "      <th>3</th>\n",
              "      <td>Multiple carriers</td>\n",
              "      <td>21/05/2019</td>\n",
              "      <td>Delhi</td>\n",
              "      <td>Cochin</td>\n",
              "      <td>DEL → BOM → COK</td>\n",
              "      <td>08:00</td>\n",
              "      <td>21:00</td>\n",
              "      <td>13h</td>\n",
              "      <td>1 stop</td>\n",
              "      <td>No info</td>\n",
              "    </tr>\n",
              "    <tr>\n",
              "      <th>4</th>\n",
              "      <td>Air Asia</td>\n",
              "      <td>24/06/2019</td>\n",
              "      <td>Banglore</td>\n",
              "      <td>Delhi</td>\n",
              "      <td>BLR → DEL</td>\n",
              "      <td>23:55</td>\n",
              "      <td>02:45 25 Jun</td>\n",
              "      <td>2h 50m</td>\n",
              "      <td>non-stop</td>\n",
              "      <td>No info</td>\n",
              "    </tr>\n",
              "  </tbody>\n",
              "</table>\n",
              "</div>"
            ],
            "text/plain": [
              "             Airline Date_of_Journey  ... Total_Stops              Additional_Info\n",
              "0        Jet Airways       6/06/2019  ...      1 stop                      No info\n",
              "1             IndiGo      12/05/2019  ...      1 stop                      No info\n",
              "2        Jet Airways      21/05/2019  ...      1 stop  In-flight meal not included\n",
              "3  Multiple carriers      21/05/2019  ...      1 stop                      No info\n",
              "4           Air Asia      24/06/2019  ...    non-stop                      No info\n",
              "\n",
              "[5 rows x 10 columns]"
            ]
          },
          "metadata": {
            "tags": []
          },
          "execution_count": 8
        }
      ]
    },
    {
      "cell_type": "code",
      "metadata": {
        "id": "pSff0PCXeSoi",
        "colab_type": "code",
        "outputId": "ff4f3dd3-99fb-43e7-deaf-179e9a301358",
        "colab": {
          "base_uri": "https://localhost:8080/",
          "height": 277
        }
      },
      "source": [
        "test.info()"
      ],
      "execution_count": 9,
      "outputs": [
        {
          "output_type": "stream",
          "text": [
            "<class 'pandas.core.frame.DataFrame'>\n",
            "RangeIndex: 2671 entries, 0 to 2670\n",
            "Data columns (total 10 columns):\n",
            "Airline            2671 non-null object\n",
            "Date_of_Journey    2671 non-null object\n",
            "Source             2671 non-null object\n",
            "Destination        2671 non-null object\n",
            "Route              2671 non-null object\n",
            "Dep_Time           2671 non-null object\n",
            "Arrival_Time       2671 non-null object\n",
            "Duration           2671 non-null object\n",
            "Total_Stops        2671 non-null object\n",
            "Additional_Info    2671 non-null object\n",
            "dtypes: object(10)\n",
            "memory usage: 208.8+ KB\n"
          ],
          "name": "stdout"
        }
      ]
    },
    {
      "cell_type": "code",
      "metadata": {
        "id": "60WFp045eana",
        "colab_type": "code",
        "colab": {}
      },
      "source": [
        "train=train.append(test)"
      ],
      "execution_count": 0,
      "outputs": []
    },
    {
      "cell_type": "code",
      "metadata": {
        "id": "TmgcqmFKejH6",
        "colab_type": "code",
        "outputId": "853c49c9-35e6-4bb6-882b-53cbc9fee951",
        "colab": {
          "base_uri": "https://localhost:8080/",
          "height": 34
        }
      },
      "source": [
        "train.shape"
      ],
      "execution_count": 11,
      "outputs": [
        {
          "output_type": "execute_result",
          "data": {
            "text/plain": [
              "(13354, 11)"
            ]
          },
          "metadata": {
            "tags": []
          },
          "execution_count": 11
        }
      ]
    },
    {
      "cell_type": "markdown",
      "metadata": {
        "id": "JF9TJ9-oetrZ",
        "colab_type": "text"
      },
      "source": [
        "## EDA"
      ]
    },
    {
      "cell_type": "code",
      "metadata": {
        "id": "B5IygU3kenzl",
        "colab_type": "code",
        "outputId": "af19c78f-3e46-4fa5-b741-341bb6f596ab",
        "colab": {
          "base_uri": "https://localhost:8080/",
          "height": 385
        }
      },
      "source": [
        "#Date of journey\n",
        "plt.subplots(figsize=[15,5])\n",
        "plt.xticks(rotation=90)\n",
        "plt.plot(train.Date_of_Journey.unique(),train.groupby(['Date_of_Journey']).mean())"
      ],
      "execution_count": 12,
      "outputs": [
        {
          "output_type": "execute_result",
          "data": {
            "text/plain": [
              "[<matplotlib.lines.Line2D at 0x7f6fc8cb5978>]"
            ]
          },
          "metadata": {
            "tags": []
          },
          "execution_count": 12
        },
        {
          "output_type": "display_data",
          "data": {
            "image/png": "[encoded data removed]",
            "text/plain": [
              "<Figure size 1080x360 with 1 Axes>"
            ]
          },
          "metadata": {
            "tags": []
          }
        }
      ]
    },
    {
      "cell_type": "code",
      "metadata": {
        "id": "x6iuPcGRe_9v",
        "colab_type": "code",
        "outputId": "212fac63-c60c-49a7-c6c2-f576a12610d4",
        "colab": {
          "base_uri": "https://localhost:8080/",
          "height": 384
        }
      },
      "source": [
        "# Date of journey VS Price\n",
        "plt.subplots(figsize=[15,5])\n",
        "plt.xticks(rotation=90)\n",
        "plt.scatter(train.Date_of_Journey, train.Price)"
      ],
      "execution_count": 13,
      "outputs": [
        {
          "output_type": "execute_result",
          "data": {
            "text/plain": [
              "<matplotlib.collections.PathCollection at 0x7f6fc8dd9550>"
            ]
          },
          "metadata": {
            "tags": []
          },
          "execution_count": 13
        },
        {
          "output_type": "display_data",
          "data": {
            "image/png": "[encoded data removed]",
            "text/plain": [
              "<Figure size 1080x360 with 1 Axes>"
            ]
          },
          "metadata": {
            "tags": []
          }
        }
      ]
    },
    {
      "cell_type": "code",
      "metadata": {
        "id": "BPCjPEuPfVej",
        "colab_type": "code",
        "outputId": "ff9897cf-7df8-4259-a632-f930e485a7a5",
        "colab": {
          "base_uri": "https://localhost:8080/",
          "height": 386
        }
      },
      "source": [
        "#Source VS Price\n",
        "plt.subplots(figsize=[15,5])\n",
        "plt.xticks(rotation=90)\n",
        "sns.boxplot(train.Source, train.Price )"
      ],
      "execution_count": 14,
      "outputs": [
        {
          "output_type": "execute_result",
          "data": {
            "text/plain": [
              "<matplotlib.axes._subplots.AxesSubplot at 0x7f6fc8bf46a0>"
            ]
          },
          "metadata": {
            "tags": []
          },
          "execution_count": 14
        },
        {
          "output_type": "display_data",
          "data": {
            "image/png": "[encoded data removed]",
            "text/plain": [
              "<Figure size 1080x360 with 1 Axes>"
            ]
          },
          "metadata": {
            "tags": []
          }
        }
      ]
    },
    {
      "cell_type": "code",
      "metadata": {
        "id": "B__q9WPzfgKG",
        "colab_type": "code",
        "outputId": "496d291c-b0b9-45c7-a99a-26b430ff30ea",
        "colab": {
          "base_uri": "https://localhost:8080/",
          "height": 396
        }
      },
      "source": [
        "#Destination VS Price\n",
        "plt.subplots(figsize=[15,5])\n",
        "plt.xticks(rotation=90)\n",
        "sns.boxplot(train.Destination, train.Price )"
      ],
      "execution_count": 15,
      "outputs": [
        {
          "output_type": "execute_result",
          "data": {
            "text/plain": [
              "<matplotlib.axes._subplots.AxesSubplot at 0x7f6fc8c52a90>"
            ]
          },
          "metadata": {
            "tags": []
          },
          "execution_count": 15
        },
        {
          "output_type": "display_data",
          "data": {
            "image/png": "[encoded data removed]",
            "text/plain": [
              "<Figure size 1080x360 with 1 Axes>"
            ]
          },
          "metadata": {
            "tags": []
          }
        }
      ]
    },
    {
      "cell_type": "code",
      "metadata": {
        "id": "qRHI2CJtfo_t",
        "colab_type": "code",
        "outputId": "df9a8a9f-8e70-44f5-d38e-a96dc8bbc088",
        "colab": {
          "base_uri": "https://localhost:8080/",
          "height": 493
        }
      },
      "source": [
        "#Additional_info VS Price\n",
        "plt.subplots(figsize=[15,5])\n",
        "plt.xticks(rotation=90)\n",
        "sns.barplot(train.Additional_Info, train.Price )"
      ],
      "execution_count": 16,
      "outputs": [
        {
          "output_type": "execute_result",
          "data": {
            "text/plain": [
              "<matplotlib.axes._subplots.AxesSubplot at 0x7f6fc89d97b8>"
            ]
          },
          "metadata": {
            "tags": []
          },
          "execution_count": 16
        },
        {
          "output_type": "display_data",
          "data": {
            "image/png": "[encoded data removed]",
            "text/plain": [
              "<Figure size 1080x360 with 1 Axes>"
            ]
          },
          "metadata": {
            "tags": []
          }
        }
      ]
    },
    {
      "cell_type": "markdown",
      "metadata": {
        "id": "P8IUqL5GgN9p",
        "colab_type": "text"
      },
      "source": [
        "#Data PreProcessing"
      ]
    },
    {
      "cell_type": "code",
      "metadata": {
        "id": "jfAH-1-QfyVj",
        "colab_type": "code",
        "colab": {}
      },
      "source": [
        "train.Dep_Time=pd.to_datetime(train.Dep_Time, format= '%H:%M').dt.time"
      ],
      "execution_count": 0,
      "outputs": []
    },
    {
      "cell_type": "code",
      "metadata": {
        "id": "PJJmoESEgYQG",
        "colab_type": "code",
        "outputId": "404e6fbe-ef53-409d-f225-a3645a8afc22",
        "colab": {
          "base_uri": "https://localhost:8080/",
          "height": 225
        }
      },
      "source": [
        "train.Dep_Time"
      ],
      "execution_count": 18,
      "outputs": [
        {
          "output_type": "execute_result",
          "data": {
            "text/plain": [
              "0       22:20:00\n",
              "1       05:50:00\n",
              "2       09:25:00\n",
              "3       18:05:00\n",
              "4       16:50:00\n",
              "          ...   \n",
              "2666    20:30:00\n",
              "2667    14:20:00\n",
              "2668    21:50:00\n",
              "2669    04:00:00\n",
              "2670    04:55:00\n",
              "Name: Dep_Time, Length: 13354, dtype: object"
            ]
          },
          "metadata": {
            "tags": []
          },
          "execution_count": 18
        }
      ]
    },
    {
      "cell_type": "code",
      "metadata": {
        "id": "K7YhsW1Ugc4F",
        "colab_type": "code",
        "colab": {}
      },
      "source": [
        "train.Arrival_Time=train.Arrival_Time.str.slice(0,6)\n",
        "train.Arrival_Time=train.Arrival_Time.str.strip()\n",
        "train.Arrival_Time=pd.to_datetime(train.Arrival_Time, format = '%H:%M').dt.time"
      ],
      "execution_count": 0,
      "outputs": []
    },
    {
      "cell_type": "code",
      "metadata": {
        "id": "LLc4UQF7grwT",
        "colab_type": "code",
        "outputId": "6c4ad9c8-7557-4a29-fa17-c727579d9eb4",
        "colab": {
          "base_uri": "https://localhost:8080/",
          "height": 225
        }
      },
      "source": [
        "train.Arrival_Time"
      ],
      "execution_count": 20,
      "outputs": [
        {
          "output_type": "execute_result",
          "data": {
            "text/plain": [
              "0       01:10:00\n",
              "1       13:15:00\n",
              "2       04:25:00\n",
              "3       23:30:00\n",
              "4       21:35:00\n",
              "          ...   \n",
              "2666    20:25:00\n",
              "2667    16:55:00\n",
              "2668    04:25:00\n",
              "2669    19:15:00\n",
              "2670    19:15:00\n",
              "Name: Arrival_Time, Length: 13354, dtype: object"
            ]
          },
          "metadata": {
            "tags": []
          },
          "execution_count": 20
        }
      ]
    },
    {
      "cell_type": "code",
      "metadata": {
        "id": "2B0gLzxVg-FH",
        "colab_type": "code",
        "colab": {}
      },
      "source": [
        "train.Date_of_Journey=pd.to_datetime(train.Date_of_Journey,format='%d/%m/%Y').dt.date"
      ],
      "execution_count": 0,
      "outputs": []
    },
    {
      "cell_type": "markdown",
      "metadata": {
        "id": "YTnzznqPhNGv",
        "colab_type": "text"
      },
      "source": [
        "Converting hours into minutes and adding them together"
      ]
    },
    {
      "cell_type": "code",
      "metadata": {
        "id": "Uners9BYhGjM",
        "colab_type": "code",
        "colab": {}
      },
      "source": [
        "minute=train['Duration'].str.slice(3,).str.extract('(\\d+)')\n",
        "hour=train['Duration'].str.extract('(\\d+)').astype('int')\n",
        "minute=minute.fillna(0) \n",
        "train['Duration']=minute.astype('int')+hour*60"
      ],
      "execution_count": 0,
      "outputs": []
    },
    {
      "cell_type": "code",
      "metadata": {
        "id": "9SjDpozJhsXF",
        "colab_type": "code",
        "outputId": "6b63f9bc-ff99-42c0-e4df-dd2b88898e00",
        "colab": {
          "base_uri": "https://localhost:8080/",
          "height": 225
        }
      },
      "source": [
        "train.Duration"
      ],
      "execution_count": 23,
      "outputs": [
        {
          "output_type": "execute_result",
          "data": {
            "text/plain": [
              "0        170\n",
              "1        445\n",
              "2       1140\n",
              "3        325\n",
              "4        285\n",
              "        ... \n",
              "2666    1435\n",
              "2667     155\n",
              "2668     395\n",
              "2669     915\n",
              "2670     860\n",
              "Name: Duration, Length: 13354, dtype: int64"
            ]
          },
          "metadata": {
            "tags": []
          },
          "execution_count": 23
        }
      ]
    },
    {
      "cell_type": "markdown",
      "metadata": {
        "id": "d1wnKDwSipzB",
        "colab_type": "text"
      },
      "source": [
        "Here I have created a new variable called 'Date_of_Arrival'. I added Date_of_Journey with the time duration."
      ]
    },
    {
      "cell_type": "code",
      "metadata": {
        "id": "pWpxBnZqh2A1",
        "colab_type": "code",
        "colab": {}
      },
      "source": [
        "train['Date_of_Arrival']=train.apply(lambda r : pd.datetime.combine(r['Date_of_Journey'],r['Dep_Time']),1) + pd.to_timedelta(train.Duration,unit='m')\n",
        "train['Date_of_Arrival']=train.Date_of_Arrival.dt.date"
      ],
      "execution_count": 0,
      "outputs": []
    },
    {
      "cell_type": "code",
      "metadata": {
        "id": "_yWLlmnxiBbr",
        "colab_type": "code",
        "outputId": "91d4632c-8d68-4120-afc0-655e1a5f8708",
        "colab": {
          "base_uri": "https://localhost:8080/",
          "height": 225
        }
      },
      "source": [
        "train.Date_of_Arrival"
      ],
      "execution_count": 25,
      "outputs": [
        {
          "output_type": "execute_result",
          "data": {
            "text/plain": [
              "0       2019-03-25\n",
              "1       2019-05-01\n",
              "2       2019-06-10\n",
              "3       2019-05-12\n",
              "4       2019-03-01\n",
              "           ...    \n",
              "2666    2019-06-07\n",
              "2667    2019-03-27\n",
              "2668    2019-03-07\n",
              "2669    2019-03-06\n",
              "2670    2019-06-15\n",
              "Name: Date_of_Arrival, Length: 13354, dtype: object"
            ]
          },
          "metadata": {
            "tags": []
          },
          "execution_count": 25
        }
      ]
    },
    {
      "cell_type": "markdown",
      "metadata": {
        "id": "LEzjKfrSjuiJ",
        "colab_type": "text"
      },
      "source": [
        "Total count of unique stops\n"
      ]
    },
    {
      "cell_type": "code",
      "metadata": {
        "id": "ov3ylszMiYpC",
        "colab_type": "code",
        "outputId": "e0a05b22-5957-4b50-f0b9-25c1d6f9c410",
        "colab": {
          "base_uri": "https://localhost:8080/",
          "height": 121
        }
      },
      "source": [
        "train.Total_Stops.value_counts()"
      ],
      "execution_count": 26,
      "outputs": [
        {
          "output_type": "execute_result",
          "data": {
            "text/plain": [
              "1 stop      7056\n",
              "non-stop    4340\n",
              "2 stops     1899\n",
              "3 stops       56\n",
              "4 stops        2\n",
              "Name: Total_Stops, dtype: int64"
            ]
          },
          "metadata": {
            "tags": []
          },
          "execution_count": 26
        }
      ]
    },
    {
      "cell_type": "code",
      "metadata": {
        "id": "dwRJnF0Pj0dR",
        "colab_type": "code",
        "colab": {}
      },
      "source": [
        "dic={'non-stop':0,'2 stops':2,'1 stop':1,'3 stops':3,'4 stops': 4}\n",
        "train['Total_Stops']=train.Total_Stops.map(dic)\n",
        "train.Total_Stops=train.Total_Stops.astype('category')"
      ],
      "execution_count": 0,
      "outputs": []
    },
    {
      "cell_type": "code",
      "metadata": {
        "id": "tJ1D71Tdj9_b",
        "colab_type": "code",
        "colab": {}
      },
      "source": [
        "r=train.Airline.str.split(' ',expand=True).get(2)"
      ],
      "execution_count": 0,
      "outputs": []
    },
    {
      "cell_type": "code",
      "metadata": {
        "id": "U7TRIRQnkW8y",
        "colab_type": "code",
        "outputId": "8fda3a63-5df0-4b3e-bd76-cf08efbef65e",
        "colab": {
          "base_uri": "https://localhost:8080/",
          "height": 34
        }
      },
      "source": [
        "r.unique()"
      ],
      "execution_count": 29,
      "outputs": [
        {
          "output_type": "execute_result",
          "data": {
            "text/plain": [
              "array([None, 'economy', 'Business', 'Premium'], dtype=object)"
            ]
          },
          "metadata": {
            "tags": []
          },
          "execution_count": 29
        }
      ]
    },
    {
      "cell_type": "code",
      "metadata": {
        "id": "6e7hSqdnkY9b",
        "colab_type": "code",
        "colab": {}
      },
      "source": [
        "\n",
        "d={None:'Economy','Premium': 'Premium Economy','economy':'Premium Economy','Business':'Business' }\n",
        "r=r.map(d)\n",
        "train['Class']=r\n",
        "train.Class=train.Class.astype('category')"
      ],
      "execution_count": 0,
      "outputs": []
    },
    {
      "cell_type": "code",
      "metadata": {
        "id": "M5Bgj5bIkl00",
        "colab_type": "code",
        "colab": {}
      },
      "source": [
        "train.loc[train.Additional_Info==\"No info\",'Additional_Info']=\"No Info\""
      ],
      "execution_count": 0,
      "outputs": []
    },
    {
      "cell_type": "code",
      "metadata": {
        "id": "JWBKEMSNktB_",
        "colab_type": "code",
        "colab": {}
      },
      "source": [
        "train.Airline=train.Airline.astype('category')"
      ],
      "execution_count": 0,
      "outputs": []
    },
    {
      "cell_type": "markdown",
      "metadata": {
        "id": "C5i3WUhxlBXe",
        "colab_type": "text"
      },
      "source": [
        "Created A column 'Same_day_travel'"
      ]
    },
    {
      "cell_type": "code",
      "metadata": {
        "id": "7_oBVPsakwa_",
        "colab_type": "code",
        "colab": {}
      },
      "source": [
        "train['Same_day_travel']=train.Date_of_Arrival-train.Date_of_Journey\n",
        "train['Same_day_travel']=train.Same_day_travel.astype('category')"
      ],
      "execution_count": 0,
      "outputs": []
    },
    {
      "cell_type": "code",
      "metadata": {
        "id": "YJqMsuFVk7-J",
        "colab_type": "code",
        "colab": {}
      },
      "source": [
        "train['weekday_journey']=train['Date_of_Journey'].apply(lambda x: x.weekday())\n",
        "train['weekday_arrival']=train['Date_of_Arrival'].apply(lambda x: x.weekday())"
      ],
      "execution_count": 0,
      "outputs": []
    },
    {
      "cell_type": "code",
      "metadata": {
        "id": "kCcjXEi8lXdN",
        "colab_type": "code",
        "colab": {}
      },
      "source": [
        "train['Year']=pd.DatetimeIndex(train['Date_of_Journey']).year\n",
        "train['month_of_journey']=pd.DatetimeIndex(train['Date_of_Journey']).month\n",
        "train['month_of_Arrival']=pd.DatetimeIndex(train['Date_of_Arrival']).month\n",
        "train['day_of_Arrival']=pd.DatetimeIndex(train['Date_of_Arrival']).day\n",
        "train['day_of_journey']=pd.DatetimeIndex(train['Date_of_Journey']).day"
      ],
      "execution_count": 0,
      "outputs": []
    },
    {
      "cell_type": "code",
      "metadata": {
        "id": "8RzfZfO6lmRd",
        "colab_type": "code",
        "outputId": "038fe13b-fa8e-4ab7-d6ef-1f741eb86796",
        "colab": {
          "base_uri": "https://localhost:8080/",
          "height": 34
        }
      },
      "source": [
        "train.shape"
      ],
      "execution_count": 36,
      "outputs": [
        {
          "output_type": "execute_result",
          "data": {
            "text/plain": [
              "(13354, 21)"
            ]
          },
          "metadata": {
            "tags": []
          },
          "execution_count": 36
        }
      ]
    },
    {
      "cell_type": "markdown",
      "metadata": {
        "id": "-3rnxJTQl5vA",
        "colab_type": "text"
      },
      "source": [
        "Now checking the null values of the data set"
      ]
    },
    {
      "cell_type": "code",
      "metadata": {
        "id": "6fNc_wj-ltad",
        "colab_type": "code",
        "outputId": "91fcf624-d06f-4b2c-9668-558338ca4fa2",
        "colab": {
          "base_uri": "https://localhost:8080/",
          "height": 398
        }
      },
      "source": [
        "train.isnull().sum()"
      ],
      "execution_count": 37,
      "outputs": [
        {
          "output_type": "execute_result",
          "data": {
            "text/plain": [
              "Additional_Info        0\n",
              "Airline                0\n",
              "Arrival_Time           0\n",
              "Date_of_Journey        0\n",
              "Dep_Time               0\n",
              "Destination            0\n",
              "Duration               0\n",
              "Price               2671\n",
              "Route                  1\n",
              "Source                 0\n",
              "Total_Stops            1\n",
              "Date_of_Arrival        0\n",
              "Class                  0\n",
              "Same_day_travel        0\n",
              "weekday_journey        0\n",
              "weekday_arrival        0\n",
              "Year                   0\n",
              "month_of_journey       0\n",
              "month_of_Arrival       0\n",
              "day_of_Arrival         0\n",
              "day_of_journey         0\n",
              "dtype: int64"
            ]
          },
          "metadata": {
            "tags": []
          },
          "execution_count": 37
        }
      ]
    },
    {
      "cell_type": "code",
      "metadata": {
        "id": "Ei4gYP-CmEpp",
        "colab_type": "code",
        "colab": {}
      },
      "source": [
        "train.Route=train.Route.fillna('DEL → MAA → COK')\n",
        "train.loc[train.Total_Stops.isnull(),'Total_Stops']=1"
      ],
      "execution_count": 0,
      "outputs": []
    },
    {
      "cell_type": "markdown",
      "metadata": {
        "id": "bfTjfoD5mfeS",
        "colab_type": "text"
      },
      "source": [
        "Dummy variable"
      ]
    },
    {
      "cell_type": "code",
      "metadata": {
        "id": "4E_aTaxQmVXC",
        "colab_type": "code",
        "colab": {}
      },
      "source": [
        "df=pd.get_dummies(train)"
      ],
      "execution_count": 0,
      "outputs": []
    },
    {
      "cell_type": "code",
      "metadata": {
        "id": "gLMhiEFrmmoF",
        "colab_type": "code",
        "colab": {}
      },
      "source": [
        "train_df=df[:len_train]\n",
        "test_df=df[len_train:]"
      ],
      "execution_count": 0,
      "outputs": []
    },
    {
      "cell_type": "code",
      "metadata": {
        "id": "dJBuLL-RmxwI",
        "colab_type": "code",
        "colab": {}
      },
      "source": [
        "x=train_df.drop('Price',axis=1)\n",
        "y=train_df['Price']"
      ],
      "execution_count": 0,
      "outputs": []
    },
    {
      "cell_type": "code",
      "metadata": {
        "id": "HFnSLJKPm7pP",
        "colab_type": "code",
        "colab": {}
      },
      "source": [
        "X=np.array(x)\n",
        "Y=np.array(y)"
      ],
      "execution_count": 0,
      "outputs": []
    },
    {
      "cell_type": "code",
      "metadata": {
        "id": "qwH4a2qrnAfc",
        "colab_type": "code",
        "colab": {}
      },
      "source": [
        "import math\n",
        "\n",
        "def rmsle(y, y_pred):\n",
        "    assert len(y) == len(y_pred)\n",
        "    terms_to_sum = [(math.log(y_pred[i] + 1) - math.log(y[i] + 1)) ** 2.0 for i,pred in enumerate(y_pred)]\n",
        "    return (sum(terms_to_sum) * (1.0/len(y))) ** 0.5"
      ],
      "execution_count": 0,
      "outputs": []
    },
    {
      "cell_type": "markdown",
      "metadata": {
        "id": "RUyHmpfJnIcR",
        "colab_type": "text"
      },
      "source": [
        "## Models"
      ]
    },
    {
      "cell_type": "markdown",
      "metadata": {
        "id": "yeFE_seRnN3v",
        "colab_type": "text"
      },
      "source": [
        "Linear Regression"
      ]
    },
    {
      "cell_type": "code",
      "metadata": {
        "id": "VFfmxk4BnEwJ",
        "colab_type": "code",
        "colab": {}
      },
      "source": [
        "reg=LinearRegression()"
      ],
      "execution_count": 0,
      "outputs": []
    },
    {
      "cell_type": "code",
      "metadata": {
        "id": "sNw_9m1cnUOr",
        "colab_type": "code",
        "outputId": "13cdc01c-52f3-43b2-deb4-0bb8f04faf9d",
        "colab": {
          "base_uri": "https://localhost:8080/",
          "height": 34
        }
      },
      "source": [
        "reg.fit(X,Y)"
      ],
      "execution_count": 45,
      "outputs": [
        {
          "output_type": "execute_result",
          "data": {
            "text/plain": [
              "LinearRegression(copy_X=True, fit_intercept=True, n_jobs=None, normalize=False)"
            ]
          },
          "metadata": {
            "tags": []
          },
          "execution_count": 45
        }
      ]
    },
    {
      "cell_type": "markdown",
      "metadata": {
        "id": "zbjqxAANr66s",
        "colab_type": "text"
      },
      "source": [
        "Gradient Boosting\n"
      ]
    },
    {
      "cell_type": "code",
      "metadata": {
        "id": "zPizUK4fn8BK",
        "colab_type": "code",
        "colab": {}
      },
      "source": [
        "xgb=XGBRegressor(learning_rate =0.1, \n",
        "      n_estimators=1500, max_depth=12, min_child_weight=1,gamma=0, reg_alpha=2e-5,\n",
        "      subsample=0.8,colsample_bytree=0.8,\n",
        "      nthread=4,scale_pos_weight=1,seed=27,verbose=True,random_state=10)"
      ],
      "execution_count": 0,
      "outputs": []
    },
    {
      "cell_type": "markdown",
      "metadata": {
        "id": "ObUx4SkZsAaM",
        "colab_type": "text"
      },
      "source": [
        ""
      ]
    },
    {
      "cell_type": "code",
      "metadata": {
        "id": "vidGZlJloCf7",
        "colab_type": "code",
        "colab": {}
      },
      "source": [
        "grb=GradientBoostingRegressor(learning_rate=0.1,n_estimators=400, max_depth=12\n",
        "                              ,subsample=0.8,\n",
        "                              verbose=False,random_state=10)"
      ],
      "execution_count": 0,
      "outputs": []
    },
    {
      "cell_type": "markdown",
      "metadata": {
        "id": "9gqTUvr8sLdr",
        "colab_type": "text"
      },
      "source": [
        "Random Forest"
      ]
    },
    {
      "cell_type": "code",
      "metadata": {
        "id": "h87WMcRjr5oX",
        "colab_type": "code",
        "colab": {}
      },
      "source": [
        "RF=RandomForestRegressor(n_estimators=3000, oob_score = False, n_jobs = -1,random_state =50,\n",
        "                         max_features = \"auto\", min_samples_leaf = 2,warm_start=True,criterion='mse',max_depth=50)"
      ],
      "execution_count": 0,
      "outputs": []
    },
    {
      "cell_type": "code",
      "metadata": {
        "id": "6qhb3IxbsNjR",
        "colab_type": "code",
        "colab": {}
      },
      "source": [
        "RF.fit(X,Y)\n",
        "y_pred=RF.predict(X)"
      ],
      "execution_count": 0,
      "outputs": []
    },
    {
      "cell_type": "code",
      "metadata": {
        "id": "kAEDkLZusS1o",
        "colab_type": "code",
        "outputId": "22f20155-a769-4d1a-d899-b1fda1d756df",
        "colab": {
          "base_uri": "https://localhost:8080/",
          "height": 34
        }
      },
      "source": [
        "rmsle(y,y_pred)"
      ],
      "execution_count": 52,
      "outputs": [
        {
          "output_type": "execute_result",
          "data": {
            "text/plain": [
              "0.07048471929462403"
            ]
          },
          "metadata": {
            "tags": []
          },
          "execution_count": 52
        }
      ]
    },
    {
      "cell_type": "code",
      "metadata": {
        "id": "hA3NlS3oMixM",
        "colab_type": "code",
        "outputId": "9fdbf51a-3dac-470b-fd26-57bfca46d3e2",
        "colab": {
          "base_uri": "https://localhost:8080/",
          "height": 34
        }
      },
      "source": [
        "1-0.0704"
      ],
      "execution_count": 53,
      "outputs": [
        {
          "output_type": "execute_result",
          "data": {
            "text/plain": [
              "0.9296"
            ]
          },
          "metadata": {
            "tags": []
          },
          "execution_count": 53
        }
      ]
    },
    {
      "cell_type": "code",
      "metadata": {
        "id": "tTZfJkB4Q5SF",
        "colab_type": "code",
        "outputId": "93a81f4f-bf1d-4f2c-a1ee-85adb6b7b12d",
        "colab": {
          "base_uri": "https://localhost:8080/",
          "height": 52
        }
      },
      "source": [
        "y_pred"
      ],
      "execution_count": 54,
      "outputs": [
        {
          "output_type": "execute_result",
          "data": {
            "text/plain": [
              "array([ 5234.78516929,  7407.72125093, 13880.59530794, ...,\n",
              "        7228.81083333, 18548.68114953, 12183.67936712])"
            ]
          },
          "metadata": {
            "tags": []
          },
          "execution_count": 54
        }
      ]
    },
    {
      "cell_type": "code",
      "metadata": {
        "id": "n4aRfvUEMq55",
        "colab_type": "code",
        "colab": {}
      },
      "source": [
        "#avg = sum(digits)/len(digits)\n",
        "#from statistics import mean\n",
        "#Predict=mean.predict(np.array(test_df.drop('Price',axis=1)))"
      ],
      "execution_count": 0,
      "outputs": []
    },
    {
      "cell_type": "code",
      "metadata": {
        "id": "P39c452gMw3u",
        "colab_type": "code",
        "outputId": "1587bb5e-53c5-42cd-c03c-f4f8265b4a03",
        "colab": {
          "base_uri": "https://localhost:8080/",
          "height": 121
        }
      },
      "source": [
        "Price_pred = pd.DataFrame(y_pred, columns = ['Price']) # Converting to dataframe\n",
        "print(Price_pred.head())"
      ],
      "execution_count": 56,
      "outputs": [
        {
          "output_type": "stream",
          "text": [
            "          Price\n",
            "0   5234.785169\n",
            "1   7407.721251\n",
            "2  13880.595308\n",
            "3   6318.376117\n",
            "4  11294.010912\n"
          ],
          "name": "stdout"
        }
      ]
    },
    {
      "cell_type": "code",
      "metadata": {
        "id": "3VZUA6RXTUp6",
        "colab_type": "code",
        "outputId": "f8c921db-fe80-49a5-c0f0-1e3b34fd5748",
        "colab": {
          "base_uri": "https://localhost:8080/",
          "height": 34
        }
      },
      "source": [
        "len(Price_pred)"
      ],
      "execution_count": 57,
      "outputs": [
        {
          "output_type": "execute_result",
          "data": {
            "text/plain": [
              "10683"
            ]
          },
          "metadata": {
            "tags": []
          },
          "execution_count": 57
        }
      ]
    },
    {
      "cell_type": "code",
      "metadata": {
        "id": "Z9W44OhoXsxE",
        "colab_type": "code",
        "colab": {}
      },
      "source": [
        "Predict=RF.predict(np.array(test_df.drop('Price',axis=1)))"
      ],
      "execution_count": 0,
      "outputs": []
    },
    {
      "cell_type": "code",
      "metadata": {
        "id": "alTi-njhXst0",
        "colab_type": "code",
        "colab": {}
      },
      "source": [
        "Predict=Predict.astype(int)"
      ],
      "execution_count": 0,
      "outputs": []
    },
    {
      "cell_type": "code",
      "metadata": {
        "id": "LsOPdYoLXsr5",
        "colab_type": "code",
        "colab": {}
      },
      "source": [
        "Submission=pd.DataFrame(Predict,columns=['Price'])"
      ],
      "execution_count": 0,
      "outputs": []
    },
    {
      "cell_type": "code",
      "metadata": {
        "id": "Szwe9gDCXspV",
        "colab_type": "code",
        "outputId": "12148031-9f8b-4335-ff24-4a7b39c34024",
        "colab": {
          "base_uri": "https://localhost:8080/",
          "height": 34
        }
      },
      "source": [
        "len(Submission)"
      ],
      "execution_count": 61,
      "outputs": [
        {
          "output_type": "execute_result",
          "data": {
            "text/plain": [
              "2671"
            ]
          },
          "metadata": {
            "tags": []
          },
          "execution_count": 61
        }
      ]
    },
    {
      "cell_type": "code",
      "metadata": {
        "id": "6o1woU1FXIuU",
        "colab_type": "code",
        "colab": {
          "base_uri": "https://localhost:8080/",
          "height": 34
        },
        "outputId": "baf77177-e37f-457a-8ec2-d776736f7b72"
      },
      "source": [
        "import os\n",
        "os.getcwd()"
      ],
      "execution_count": 62,
      "outputs": [
        {
          "output_type": "execute_result",
          "data": {
            "text/plain": [
              "'/content'"
            ]
          },
          "metadata": {
            "tags": []
          },
          "execution_count": 62
        }
      ]
    },
    {
      "cell_type": "code",
      "metadata": {
        "id": "lzeP_QOBXIqB",
        "colab_type": "code",
        "colab": {}
      },
      "source": [
        "Submission.to_csv('submisssion1.csv',index=False)"
      ],
      "execution_count": 0,
      "outputs": []
    },
    {
      "cell_type": "code",
      "metadata": {
        "id": "jwFGa7sKXIlt",
        "colab_type": "code",
        "colab": {}
      },
      "source": [
        ""
      ],
      "execution_count": 0,
      "outputs": []
    },
    {
      "cell_type": "code",
      "metadata": {
        "id": "WG4sYGgIXIjr",
        "colab_type": "code",
        "colab": {}
      },
      "source": [
        ""
      ],
      "execution_count": 0,
      "outputs": []
    },
    {
      "cell_type": "code",
      "metadata": {
        "id": "hMK3Ui9iWSxa",
        "colab_type": "code",
        "colab": {}
      },
      "source": [
        ""
      ],
      "execution_count": 0,
      "outputs": []
    }
  ]
}